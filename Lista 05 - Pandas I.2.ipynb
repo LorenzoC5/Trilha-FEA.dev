{
 "cells": [
  {
   "cell_type": "markdown",
   "metadata": {},
   "source": [
    "# Fala devs, blz?? \n",
    "\n",
    "Esta será nossa quinta lista de exercícios para você testar seu conhecimento acerca do conteúdo do MÓDULO 3:\n",
    "\n",
    "-Pandas I"
   ]
  },
  {
   "cell_type": "markdown",
   "metadata": {},
   "source": [
    "Para esta lista de exercícios utilizaremos uma base de dados contendo informações sobre a performance de alunos em exames\n",
    ". A base de dados está disponível para download na plataforma Kaggle a partir do link abaixo:"
   ]
  },
  {
   "cell_type": "markdown",
   "metadata": {},
   "source": [
    "https://www.kaggle.com/datasets/spscientist/students-performance-in-exams"
   ]
  },
  {
   "cell_type": "markdown",
   "metadata": {},
   "source": [
    "## QUESTÃO 0"
   ]
  },
  {
   "cell_type": "markdown",
   "metadata": {},
   "source": [
    "Carregue os dados do arquivo \"StudentPerformance.csv\" em um DataFrame com nome \"df\" e mostre as primeiras suas 10 primeiras linhas. \n",
    "<br>\n",
    "*Certifique-se de que o arquivo se encontra no mesmo diretorio da lista 5."
   ]
  },
  {
   "cell_type": "code",
   "execution_count": 3,
   "metadata": {},
   "outputs": [
    {
     "data": {
      "text/html": [
       "<div>\n",
       "<style scoped>\n",
       "    .dataframe tbody tr th:only-of-type {\n",
       "        vertical-align: middle;\n",
       "    }\n",
       "\n",
       "    .dataframe tbody tr th {\n",
       "        vertical-align: top;\n",
       "    }\n",
       "\n",
       "    .dataframe thead th {\n",
       "        text-align: right;\n",
       "    }\n",
       "</style>\n",
       "<table border=\"1\" class=\"dataframe\">\n",
       "  <thead>\n",
       "    <tr style=\"text-align: right;\">\n",
       "      <th></th>\n",
       "      <th>gender</th>\n",
       "      <th>race/ethnicity</th>\n",
       "      <th>parental level of education</th>\n",
       "      <th>lunch</th>\n",
       "      <th>test preparation course</th>\n",
       "      <th>math score</th>\n",
       "      <th>reading score</th>\n",
       "      <th>writing score</th>\n",
       "    </tr>\n",
       "  </thead>\n",
       "  <tbody>\n",
       "    <tr>\n",
       "      <th>0</th>\n",
       "      <td>female</td>\n",
       "      <td>group B</td>\n",
       "      <td>bachelor's degree</td>\n",
       "      <td>standard</td>\n",
       "      <td>none</td>\n",
       "      <td>72</td>\n",
       "      <td>72</td>\n",
       "      <td>74</td>\n",
       "    </tr>\n",
       "    <tr>\n",
       "      <th>1</th>\n",
       "      <td>female</td>\n",
       "      <td>group C</td>\n",
       "      <td>some college</td>\n",
       "      <td>standard</td>\n",
       "      <td>completed</td>\n",
       "      <td>69</td>\n",
       "      <td>90</td>\n",
       "      <td>88</td>\n",
       "    </tr>\n",
       "    <tr>\n",
       "      <th>2</th>\n",
       "      <td>female</td>\n",
       "      <td>group B</td>\n",
       "      <td>master's degree</td>\n",
       "      <td>standard</td>\n",
       "      <td>none</td>\n",
       "      <td>90</td>\n",
       "      <td>95</td>\n",
       "      <td>93</td>\n",
       "    </tr>\n",
       "    <tr>\n",
       "      <th>3</th>\n",
       "      <td>male</td>\n",
       "      <td>group A</td>\n",
       "      <td>associate's degree</td>\n",
       "      <td>free/reduced</td>\n",
       "      <td>none</td>\n",
       "      <td>47</td>\n",
       "      <td>57</td>\n",
       "      <td>44</td>\n",
       "    </tr>\n",
       "    <tr>\n",
       "      <th>4</th>\n",
       "      <td>male</td>\n",
       "      <td>group C</td>\n",
       "      <td>some college</td>\n",
       "      <td>standard</td>\n",
       "      <td>none</td>\n",
       "      <td>76</td>\n",
       "      <td>78</td>\n",
       "      <td>75</td>\n",
       "    </tr>\n",
       "    <tr>\n",
       "      <th>5</th>\n",
       "      <td>female</td>\n",
       "      <td>group B</td>\n",
       "      <td>associate's degree</td>\n",
       "      <td>standard</td>\n",
       "      <td>none</td>\n",
       "      <td>71</td>\n",
       "      <td>83</td>\n",
       "      <td>78</td>\n",
       "    </tr>\n",
       "    <tr>\n",
       "      <th>6</th>\n",
       "      <td>female</td>\n",
       "      <td>group B</td>\n",
       "      <td>some college</td>\n",
       "      <td>standard</td>\n",
       "      <td>completed</td>\n",
       "      <td>88</td>\n",
       "      <td>95</td>\n",
       "      <td>92</td>\n",
       "    </tr>\n",
       "    <tr>\n",
       "      <th>7</th>\n",
       "      <td>male</td>\n",
       "      <td>group B</td>\n",
       "      <td>some college</td>\n",
       "      <td>free/reduced</td>\n",
       "      <td>none</td>\n",
       "      <td>40</td>\n",
       "      <td>43</td>\n",
       "      <td>39</td>\n",
       "    </tr>\n",
       "    <tr>\n",
       "      <th>8</th>\n",
       "      <td>male</td>\n",
       "      <td>group D</td>\n",
       "      <td>high school</td>\n",
       "      <td>free/reduced</td>\n",
       "      <td>completed</td>\n",
       "      <td>64</td>\n",
       "      <td>64</td>\n",
       "      <td>67</td>\n",
       "    </tr>\n",
       "    <tr>\n",
       "      <th>9</th>\n",
       "      <td>female</td>\n",
       "      <td>group B</td>\n",
       "      <td>high school</td>\n",
       "      <td>free/reduced</td>\n",
       "      <td>none</td>\n",
       "      <td>38</td>\n",
       "      <td>60</td>\n",
       "      <td>50</td>\n",
       "    </tr>\n",
       "  </tbody>\n",
       "</table>\n",
       "</div>"
      ],
      "text/plain": [
       "   gender race/ethnicity parental level of education         lunch  \\\n",
       "0  female        group B           bachelor's degree      standard   \n",
       "1  female        group C                some college      standard   \n",
       "2  female        group B             master's degree      standard   \n",
       "3    male        group A          associate's degree  free/reduced   \n",
       "4    male        group C                some college      standard   \n",
       "5  female        group B          associate's degree      standard   \n",
       "6  female        group B                some college      standard   \n",
       "7    male        group B                some college  free/reduced   \n",
       "8    male        group D                 high school  free/reduced   \n",
       "9  female        group B                 high school  free/reduced   \n",
       "\n",
       "  test preparation course  math score  reading score  writing score  \n",
       "0                    none          72             72             74  \n",
       "1               completed          69             90             88  \n",
       "2                    none          90             95             93  \n",
       "3                    none          47             57             44  \n",
       "4                    none          76             78             75  \n",
       "5                    none          71             83             78  \n",
       "6               completed          88             95             92  \n",
       "7                    none          40             43             39  \n",
       "8               completed          64             64             67  \n",
       "9                    none          38             60             50  "
      ]
     },
     "execution_count": 3,
     "metadata": {},
     "output_type": "execute_result"
    }
   ],
   "source": [
    "import pandas as pd\n",
    "\n",
    "#seu código começa aqui\n",
    "\n",
    "df = pd.read_csv(\"StudentsPerformance.csv\")\n",
    "\n",
    "df.head(10)\n"
   ]
  },
  {
   "cell_type": "markdown",
   "metadata": {},
   "source": [
    "Agora mostre as 10 **últimas** linhas do DataFrame."
   ]
  },
  {
   "cell_type": "code",
   "execution_count": 5,
   "metadata": {},
   "outputs": [
    {
     "data": {
      "text/html": [
       "<div>\n",
       "<style scoped>\n",
       "    .dataframe tbody tr th:only-of-type {\n",
       "        vertical-align: middle;\n",
       "    }\n",
       "\n",
       "    .dataframe tbody tr th {\n",
       "        vertical-align: top;\n",
       "    }\n",
       "\n",
       "    .dataframe thead th {\n",
       "        text-align: right;\n",
       "    }\n",
       "</style>\n",
       "<table border=\"1\" class=\"dataframe\">\n",
       "  <thead>\n",
       "    <tr style=\"text-align: right;\">\n",
       "      <th></th>\n",
       "      <th>gender</th>\n",
       "      <th>race/ethnicity</th>\n",
       "      <th>parental level of education</th>\n",
       "      <th>lunch</th>\n",
       "      <th>test preparation course</th>\n",
       "      <th>math score</th>\n",
       "      <th>reading score</th>\n",
       "      <th>writing score</th>\n",
       "    </tr>\n",
       "  </thead>\n",
       "  <tbody>\n",
       "    <tr>\n",
       "      <th>990</th>\n",
       "      <td>male</td>\n",
       "      <td>group E</td>\n",
       "      <td>high school</td>\n",
       "      <td>free/reduced</td>\n",
       "      <td>completed</td>\n",
       "      <td>86</td>\n",
       "      <td>81</td>\n",
       "      <td>75</td>\n",
       "    </tr>\n",
       "    <tr>\n",
       "      <th>991</th>\n",
       "      <td>female</td>\n",
       "      <td>group B</td>\n",
       "      <td>some high school</td>\n",
       "      <td>standard</td>\n",
       "      <td>completed</td>\n",
       "      <td>65</td>\n",
       "      <td>82</td>\n",
       "      <td>78</td>\n",
       "    </tr>\n",
       "    <tr>\n",
       "      <th>992</th>\n",
       "      <td>female</td>\n",
       "      <td>group D</td>\n",
       "      <td>associate's degree</td>\n",
       "      <td>free/reduced</td>\n",
       "      <td>none</td>\n",
       "      <td>55</td>\n",
       "      <td>76</td>\n",
       "      <td>76</td>\n",
       "    </tr>\n",
       "    <tr>\n",
       "      <th>993</th>\n",
       "      <td>female</td>\n",
       "      <td>group D</td>\n",
       "      <td>bachelor's degree</td>\n",
       "      <td>free/reduced</td>\n",
       "      <td>none</td>\n",
       "      <td>62</td>\n",
       "      <td>72</td>\n",
       "      <td>74</td>\n",
       "    </tr>\n",
       "    <tr>\n",
       "      <th>994</th>\n",
       "      <td>male</td>\n",
       "      <td>group A</td>\n",
       "      <td>high school</td>\n",
       "      <td>standard</td>\n",
       "      <td>none</td>\n",
       "      <td>63</td>\n",
       "      <td>63</td>\n",
       "      <td>62</td>\n",
       "    </tr>\n",
       "    <tr>\n",
       "      <th>995</th>\n",
       "      <td>female</td>\n",
       "      <td>group E</td>\n",
       "      <td>master's degree</td>\n",
       "      <td>standard</td>\n",
       "      <td>completed</td>\n",
       "      <td>88</td>\n",
       "      <td>99</td>\n",
       "      <td>95</td>\n",
       "    </tr>\n",
       "    <tr>\n",
       "      <th>996</th>\n",
       "      <td>male</td>\n",
       "      <td>group C</td>\n",
       "      <td>high school</td>\n",
       "      <td>free/reduced</td>\n",
       "      <td>none</td>\n",
       "      <td>62</td>\n",
       "      <td>55</td>\n",
       "      <td>55</td>\n",
       "    </tr>\n",
       "    <tr>\n",
       "      <th>997</th>\n",
       "      <td>female</td>\n",
       "      <td>group C</td>\n",
       "      <td>high school</td>\n",
       "      <td>free/reduced</td>\n",
       "      <td>completed</td>\n",
       "      <td>59</td>\n",
       "      <td>71</td>\n",
       "      <td>65</td>\n",
       "    </tr>\n",
       "    <tr>\n",
       "      <th>998</th>\n",
       "      <td>female</td>\n",
       "      <td>group D</td>\n",
       "      <td>some college</td>\n",
       "      <td>standard</td>\n",
       "      <td>completed</td>\n",
       "      <td>68</td>\n",
       "      <td>78</td>\n",
       "      <td>77</td>\n",
       "    </tr>\n",
       "    <tr>\n",
       "      <th>999</th>\n",
       "      <td>female</td>\n",
       "      <td>group D</td>\n",
       "      <td>some college</td>\n",
       "      <td>free/reduced</td>\n",
       "      <td>none</td>\n",
       "      <td>77</td>\n",
       "      <td>86</td>\n",
       "      <td>86</td>\n",
       "    </tr>\n",
       "  </tbody>\n",
       "</table>\n",
       "</div>"
      ],
      "text/plain": [
       "     gender race/ethnicity parental level of education         lunch  \\\n",
       "990    male        group E                 high school  free/reduced   \n",
       "991  female        group B            some high school      standard   \n",
       "992  female        group D          associate's degree  free/reduced   \n",
       "993  female        group D           bachelor's degree  free/reduced   \n",
       "994    male        group A                 high school      standard   \n",
       "995  female        group E             master's degree      standard   \n",
       "996    male        group C                 high school  free/reduced   \n",
       "997  female        group C                 high school  free/reduced   \n",
       "998  female        group D                some college      standard   \n",
       "999  female        group D                some college  free/reduced   \n",
       "\n",
       "    test preparation course  math score  reading score  writing score  \n",
       "990               completed          86             81             75  \n",
       "991               completed          65             82             78  \n",
       "992                    none          55             76             76  \n",
       "993                    none          62             72             74  \n",
       "994                    none          63             63             62  \n",
       "995               completed          88             99             95  \n",
       "996                    none          62             55             55  \n",
       "997               completed          59             71             65  \n",
       "998               completed          68             78             77  \n",
       "999                    none          77             86             86  "
      ]
     },
     "execution_count": 5,
     "metadata": {},
     "output_type": "execute_result"
    }
   ],
   "source": [
    "#SEU CÓDIGO COMEÇA AQUI\n",
    "df.tail(10)"
   ]
  },
  {
   "cell_type": "markdown",
   "metadata": {},
   "source": [
    "## QUESTÃO 1"
   ]
  },
  {
   "cell_type": "markdown",
   "metadata": {},
   "source": [
    "**Exploração Inicial dos Dados**\n",
    "\n",
    "a) Verifique o número de linhas e colunas no DataFrame. **(.shape)**"
   ]
  },
  {
   "cell_type": "code",
   "execution_count": 13,
   "metadata": {},
   "outputs": [
    {
     "name": "stdout",
     "output_type": "stream",
     "text": [
      "O número de linhas é:  1000\n",
      "O número de colunas é:  8\n"
     ]
    }
   ],
   "source": [
    "#SEU CÓDIGO COMEÇA AQUI\n",
    "\n",
    "print(\"O número de linhas é: \", df.shape[0])\n",
    "print(\"O número de colunas é: \", df.shape[1])"
   ]
  },
  {
   "cell_type": "markdown",
   "metadata": {},
   "source": [
    "b) Liste as colunas presentes no DataFrame. **(.columns)**"
   ]
  },
  {
   "cell_type": "code",
   "execution_count": 14,
   "metadata": {},
   "outputs": [
    {
     "data": {
      "text/plain": [
       "Index(['gender', 'race/ethnicity', 'parental level of education', 'lunch',\n",
       "       'test preparation course', 'math score', 'reading score',\n",
       "       'writing score'],\n",
       "      dtype='object')"
      ]
     },
     "execution_count": 14,
     "metadata": {},
     "output_type": "execute_result"
    }
   ],
   "source": [
    "#SEU CÓDIGO COMEÇA AQUI\n",
    "df.columns"
   ]
  },
  {
   "cell_type": "markdown",
   "metadata": {},
   "source": [
    "c) Verifique se há valores nulos em cada coluna."
   ]
  },
  {
   "cell_type": "code",
   "execution_count": 16,
   "metadata": {},
   "outputs": [
    {
     "name": "stdout",
     "output_type": "stream",
     "text": [
      "gender                         0\n",
      "race/ethnicity                 0\n",
      "parental level of education    0\n",
      "lunch                          0\n",
      "test preparation course        0\n",
      "math score                     0\n",
      "reading score                  0\n",
      "writing score                  0\n",
      "dtype: int64\n"
     ]
    }
   ],
   "source": [
    "#SEU CÓDIGO COMEÇA AQUI\n",
    "valores_nulos = df.isnull().sum()\n",
    "print(valores_nulos)"
   ]
  },
  {
   "cell_type": "markdown",
   "metadata": {},
   "source": [
    "## QUESTÃO 2"
   ]
  },
  {
   "cell_type": "markdown",
   "metadata": {},
   "source": [
    "a) Antes de começarmos a trabalhar com os dados é preciso descartar dados que não serão utilizados em nossa análise. Utilize a lista abaixo para remover colunas irrelevantes."
   ]
  },
  {
   "cell_type": "code",
   "execution_count": 17,
   "metadata": {},
   "outputs": [],
   "source": [
    "remover = [\"parental level of education\",\"lunch\"]\n",
    "\n",
    "#SEU CÓDIGO COMEÇA AQUI\n",
    "df = df.drop(columns=remover)"
   ]
  },
  {
   "cell_type": "markdown",
   "metadata": {},
   "source": [
    "b) Agora utilize o dicionário abaixo para renomear as colunas restantes."
   ]
  },
  {
   "cell_type": "code",
   "execution_count": 21,
   "metadata": {},
   "outputs": [],
   "source": [
    "nome_colunas = {\n",
    "    \"gender\": \"Gênero\",\n",
    "    \"race/ethinicity\": \"Raça/Etnia\",\n",
    "    \"test preparation course\": \"Curso_Prep\",\n",
    "    \"math score\" : \"Nota_Matemática\",\n",
    "    \"reading score\":\"Nota_Leitura\",\n",
    "    \"writing score\" : \"Nota_Redação\"\n",
    "}\n",
    "\n",
    "#SEU CÓDIGO COMEÇA AQUI\n",
    "df = df.rename(columns=nome_colunas)"
   ]
  },
  {
   "cell_type": "markdown",
   "metadata": {},
   "source": [
    "## QUESTÃO 3"
   ]
  },
  {
   "cell_type": "markdown",
   "metadata": {},
   "source": [
    "Crie um DataFrame com as estatísticas descritivas de cada coluna com valores númericos. Estatísticas descritivas incluem dados como: média, mediana, desvio padrão, mínimo e máximo para cada uma dessas colunas."
   ]
  },
  {
   "cell_type": "code",
   "execution_count": 25,
   "metadata": {},
   "outputs": [
    {
     "name": "stdout",
     "output_type": "stream",
     "text": [
      "                  Média  Mediana  Desvio Padrão  Mínimo  Máximo\n",
      "Nota_Matemática  66.089     66.0      15.163080     0.0   100.0\n",
      "Nota_Leitura     69.169     70.0      14.600192    17.0   100.0\n",
      "Nota_Redação     68.054     69.0      15.195657    10.0   100.0\n"
     ]
    }
   ],
   "source": [
    "#SEU CÓDIGO COMEÇA AQUI\n",
    "df_numerico = df.select_dtypes(include=['number'])\n",
    "\n",
    "estatisticas_descritivas = df_numerico.describe().T\n",
    "\n",
    "estatisticas_descritivas['median'] = df_numerico.median()\n",
    "\n",
    "estatisticas_descritivas = estatisticas_descritivas[['mean', '50%', 'std', 'min', 'max']].rename(\n",
    "    columns={\n",
    "        'mean': 'Média',\n",
    "        '50%': 'Mediana',\n",
    "        'std': 'Desvio Padrão',\n",
    "        'min': 'Mínimo',\n",
    "        'max': 'Máximo'\n",
    "    }\n",
    ")\n",
    "\n",
    "print(estatisticas_descritivas)"
   ]
  },
  {
   "cell_type": "markdown",
   "metadata": {},
   "source": [
    "## QUESTÃO 4"
   ]
  },
  {
   "cell_type": "markdown",
   "metadata": {},
   "source": [
    "Crie um novo DataFrame contendo apenas os alunos que tiveram nota maior que a média em todos os exames chamado \"df_acima_media\". Mostre o DataFrame resultante e quantos dos alunos totais estão na nova tabela."
   ]
  },
  {
   "cell_type": "code",
   "execution_count": 26,
   "metadata": {},
   "outputs": [
    {
     "name": "stdout",
     "output_type": "stream",
     "text": [
      "     Gênero race/ethnicity Curso_Prep  Nota_Matemática  Nota_Leitura  \\\n",
      "0    female        group B       none               72            72   \n",
      "1    female        group C  completed               69            90   \n",
      "2    female        group B       none               90            95   \n",
      "4      male        group C       none               76            78   \n",
      "5    female        group B       none               71            83   \n",
      "..      ...            ...        ...              ...           ...   \n",
      "989  female        group D  completed               67            86   \n",
      "990    male        group E  completed               86            81   \n",
      "995  female        group E  completed               88            99   \n",
      "998  female        group D  completed               68            78   \n",
      "999  female        group D       none               77            86   \n",
      "\n",
      "     Nota_Redação  \n",
      "0              74  \n",
      "1              88  \n",
      "2              93  \n",
      "4              75  \n",
      "5              78  \n",
      "..            ...  \n",
      "989            83  \n",
      "990            75  \n",
      "995            95  \n",
      "998            77  \n",
      "999            86  \n",
      "\n",
      "[374 rows x 6 columns]\n",
      "Número de alunos com notas acima da média em todos os exames: 374\n"
     ]
    }
   ],
   "source": [
    "#SEU CÓDIGO COMEÇA AQUI\n",
    "media_matematica = df['Nota_Matemática'].mean()\n",
    "media_leitura = df['Nota_Leitura'].mean()\n",
    "media_redacao = df['Nota_Redação'].mean()\n",
    "\n",
    "df_acima_media = df[\n",
    "    (df['Nota_Matemática'] > media_matematica) &\n",
    "    (df['Nota_Leitura'] > media_leitura) &\n",
    "    (df['Nota_Redação'] > media_redacao)\n",
    "]\n",
    "\n",
    "print(df_acima_media)\n",
    "\n",
    "num_alunos_acima_media = df_acima_media.shape[0]\n",
    "print(f\"Número de alunos com notas acima da média em todos os exames: {num_alunos_acima_media}\")"
   ]
  },
  {
   "cell_type": "markdown",
   "metadata": {},
   "source": [
    "## QUESTÃO 5"
   ]
  },
  {
   "cell_type": "markdown",
   "metadata": {},
   "source": [
    "Crie uma nova coluna no Dataframe \"df\" com o nome \"Nota_Geral\" que represente a média da nota de cada aluno nas 3 disciplinas. Utilize esta nova coluna para ordenar os alunos de acordo com sua nota de forma que o aluno com maior nota geral esteja na primeira linha do DataFrame."
   ]
  },
  {
   "cell_type": "code",
   "execution_count": 29,
   "metadata": {},
   "outputs": [],
   "source": [
    "#SEU CÓDIGO COMEÇA AQUI\n",
    "df['Nota_Geral'] = df[['Nota_Matemática', 'Nota_Leitura', 'Nota_Redação']].mean(axis=1)\n",
    "\n",
    "df = df.sort_values(by='Nota_Geral', ascending=False)"
   ]
  },
  {
   "cell_type": "markdown",
   "metadata": {},
   "source": [
    "## QUESTÃO 6"
   ]
  },
  {
   "cell_type": "markdown",
   "metadata": {},
   "source": [
    "a) Conte quantos dos alunos pertencem a cada gênero."
   ]
  },
  {
   "cell_type": "code",
   "execution_count": 30,
   "metadata": {},
   "outputs": [
    {
     "name": "stdout",
     "output_type": "stream",
     "text": [
      "Contagem por Gênero:\n",
      "Gênero\n",
      "female    518\n",
      "male      482\n",
      "Name: count, dtype: int64\n"
     ]
    }
   ],
   "source": [
    "#SEU CÓDIGO COMEÇA AQUI\n",
    "contagem_genero = df['Gênero'].value_counts()\n",
    "print(\"Contagem por Gênero:\")\n",
    "print(contagem_genero)"
   ]
  },
  {
   "cell_type": "markdown",
   "metadata": {},
   "source": [
    "b) Conte quantos dos alunos pertencem a cada Raça/Etnia."
   ]
  },
  {
   "cell_type": "code",
   "execution_count": 33,
   "metadata": {},
   "outputs": [
    {
     "name": "stdout",
     "output_type": "stream",
     "text": [
      "\n",
      "Contagem por Raça/Etnia:\n",
      "race/ethnicity\n",
      "group C    319\n",
      "group D    262\n",
      "group B    190\n",
      "group E    140\n",
      "group A     89\n",
      "Name: count, dtype: int64\n"
     ]
    }
   ],
   "source": [
    "#SEU CÓDIGO COMEÇA AQUI\n",
    "contagem_raca_etnia = df['race/ethnicity'].value_counts()\n",
    "print(\"\\nContagem por Raça/Etnia:\")\n",
    "print(contagem_raca_etnia)"
   ]
  },
  {
   "cell_type": "markdown",
   "metadata": {},
   "source": [
    "c) Conte quantos dos alunos realizaram ou não algum curso preparatório."
   ]
  },
  {
   "cell_type": "code",
   "execution_count": 32,
   "metadata": {},
   "outputs": [
    {
     "name": "stdout",
     "output_type": "stream",
     "text": [
      "\n",
      "Contagem por Curso Preparatório:\n",
      "Curso_Prep\n",
      "none         642\n",
      "completed    358\n",
      "Name: count, dtype: int64\n"
     ]
    }
   ],
   "source": [
    "#SEU CÓDIGO COMEÇA AQUI\n",
    "contagem_curso_prep = df['Curso_Prep'].value_counts()\n",
    "print(\"\\nContagem por Curso Preparatório:\")\n",
    "print(contagem_curso_prep)"
   ]
  },
  {
   "cell_type": "markdown",
   "metadata": {},
   "source": [
    "## QUESTÃO 7"
   ]
  },
  {
   "cell_type": "markdown",
   "metadata": {},
   "source": [
    "Neste exercício deseja-se observar se o gênero de um aluno tem influência sobre seu acesso a cursos preparatórios. Para realizar esta tarefa agrupe os alunos de acordo com seus respectivos genêros (.groupby) e obtenha as proporções daqueles que realizaram algum curso e aqueles que não para cada um dos grupos (para obter a contagem da frequência relativa de um valor utilize **normalize=True**)."
   ]
  },
  {
   "cell_type": "code",
   "execution_count": 41,
   "metadata": {},
   "outputs": [
    {
     "data": {
      "text/plain": [
       "Gênero  Curso_Prep\n",
       "female  none          0.644788\n",
       "        completed     0.355212\n",
       "male    none          0.639004\n",
       "        completed     0.360996\n",
       "Name: proportion, dtype: float64"
      ]
     },
     "execution_count": 41,
     "metadata": {},
     "output_type": "execute_result"
    }
   ],
   "source": [
    "#SEU CÓDIGO COMEÇA AQUI\n",
    "\n",
    "gender = df.groupby('Gênero')\n",
    "\n",
    "media = gender[\"Curso_Prep\"].value_counts(normalize=True)\n",
    "\n",
    "media\n"
   ]
  },
  {
   "cell_type": "markdown",
   "metadata": {},
   "source": [
    "## QUESTÃO 8"
   ]
  },
  {
   "cell_type": "markdown",
   "metadata": {},
   "source": [
    "Neste exercício deseja-se observar qual das disciplinas examindas (Matemática, Leitura, Redação) é mais influênciada por cada um dos fatores qualitivos (Gênero, Raça/Etnia, Realização de Curso Preparatório). Para isso, agrupe a base de dados para cada um dos fatores qualitativos e calcule a diferença entre a maior e menor nota média em cada uma das disciplinas. A disciplina que possuir maior diferença entre as notas médias será considerada a mais influênciada."
   ]
  },
  {
   "cell_type": "markdown",
   "metadata": {},
   "source": [
    "a) Qual disciplina possui a maior diferença entre as notas médias de homens e mulheres."
   ]
  },
  {
   "cell_type": "code",
   "execution_count": 55,
   "metadata": {},
   "outputs": [
    {
     "name": "stdout",
     "output_type": "stream",
     "text": [
      "Disciplina com a maior diferença entre homens e mulheres: writing score, Diferença: 9.155978147679384\n"
     ]
    }
   ],
   "source": [
    "numerical_columns = ['math score', 'reading score', 'writing score']\n",
    "\n",
    "gender_group = df.groupby('gender')[numerical_columns].mean()\n",
    "\n",
    "diff_gender = gender_group.max() - gender_group.min()\n",
    "\n",
    "max_diff_gender = diff_gender.idxmax()\n",
    "print(f\"Disciplina com a maior diferença entre homens e mulheres: {max_diff_gender}, Diferença: {diff_gender[max_diff_gender]}\")"
   ]
  },
  {
   "cell_type": "markdown",
   "metadata": {},
   "source": [
    "b) Qual disciplina possui a maior diferença entre a maior e menor nota média dentre as diferentes Raças/Etnias."
   ]
  },
  {
   "cell_type": "code",
   "execution_count": 56,
   "metadata": {},
   "outputs": [
    {
     "name": "stdout",
     "output_type": "stream",
     "text": [
      "Disciplina com a maior diferença entre as raças/etnias: math score, Diferença: 12.192215088282502\n"
     ]
    }
   ],
   "source": [
    "#SEU CÓDIGO COMEÇA AQUI\n",
    "race_group = df.groupby('race/ethnicity')[numerical_columns].mean()\n",
    "\n",
    "diff_race = race_group.max() - race_group.min()\n",
    "\n",
    "max_diff_race = diff_race.idxmax()\n",
    "print(f\"Disciplina com a maior diferença entre as raças/etnias: {max_diff_race}, Diferença: {diff_race[max_diff_race]}\")\n"
   ]
  },
  {
   "cell_type": "markdown",
   "metadata": {},
   "source": [
    "c) Qual disciplina possuir a maior diferença entre as notas médias daqueles que realizaram ou não cursos preparatórios."
   ]
  },
  {
   "cell_type": "code",
   "execution_count": 57,
   "metadata": {},
   "outputs": [
    {
     "name": "stdout",
     "output_type": "stream",
     "text": [
      "Disciplina com a maior diferença entre os que realizaram ou não curso preparatório: writing score, Diferença: 9.914321516211558\n"
     ]
    }
   ],
   "source": [
    "#SEU CÓDIGO COMEÇA AQUI\n",
    "prep_course_group = df.groupby('test preparation course')[numerical_columns].mean()\n",
    "\n",
    "diff_prep_course = prep_course_group.max() - prep_course_group.min()\n",
    "\n",
    "max_diff_prep_course = diff_prep_course.idxmax()\n",
    "print(f\"Disciplina com a maior diferença entre os que realizaram ou não curso preparatório: {max_diff_prep_course}, Diferença: {diff_prep_course[max_diff_prep_course]}\")\n"
   ]
  },
  {
   "cell_type": "markdown",
   "metadata": {},
   "source": [
    "## QUESTÃO 9"
   ]
  },
  {
   "cell_type": "markdown",
   "metadata": {},
   "source": [
    "Neste exercício deseja-se observar qual dos fatores qualitativos (Gênero, Raça/Etnia, Realização de Curso Preparatório) possui maior discrepância de desempenho entre suas categorias para a nota geral do exame. Para isso, calcule a diferença entre a maior e menor nota média para cada um dos fatores e indique qual teve maior diferença. Utilize as funções (.groupby) e (.mean)."
   ]
  },
  {
   "cell_type": "markdown",
   "metadata": {},
   "source": [
    "Qual das colunas possui maior discrepância para as Notas Gerais?"
   ]
  },
  {
   "cell_type": "code",
   "execution_count": 60,
   "metadata": {},
   "outputs": [
    {
     "name": "stdout",
     "output_type": "stream",
     "text": [
      "O fator qualitativo com maior discrepância de desempenho entre suas categorias é: Raça/Etnia, com uma diferença de 9.76 pontos na nota geral.\n"
     ]
    }
   ],
   "source": [
    "diff_values = {\n",
    "    'Gênero': diff_gender,\n",
    "    'Raça/Etnia': diff_race,\n",
    "    'Curso Preparatório': diff_prep_course\n",
    "}\n",
    "\n",
    "factor, max_diff = max(diff_values.items(), key=lambda x: x[1])\n",
    "\n",
    "print(f\"O fator qualitativo com maior discrepância de desempenho entre suas categorias é: {factor}, com uma diferença de {max_diff:.2f} pontos na nota geral.\")\n"
   ]
  }
 ],
 "metadata": {
  "kernelspec": {
   "display_name": "Python 3 (ipykernel)",
   "language": "python",
   "name": "python3"
  },
  "language_info": {
   "codemirror_mode": {
    "name": "ipython",
    "version": 3
   },
   "file_extension": ".py",
   "mimetype": "text/x-python",
   "name": "python",
   "nbconvert_exporter": "python",
   "pygments_lexer": "ipython3",
   "version": "3.11.7"
  }
 },
 "nbformat": 4,
 "nbformat_minor": 2
}
